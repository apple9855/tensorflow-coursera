{
  "cells": [
    {
      "cell_type": "markdown",
      "id": "812f6ba9",
      "metadata": {
        "id": "812f6ba9"
      },
      "source": [
        "# Week 2: Tackle Overfitting with Data Augmentation\n",
        "\n",
        "Welcome to this assignment! As in the previous week, you will be using the famous `cats vs dogs` dataset to train a model that can classify images of dogs from images of cats. For this, you will create your own Convolutional Neural Network in Tensorflow and leverage Keras' image preprocessing utilities, more so this time around since Keras provides excellent support for augmenting image data.\n",
        "\n",
        "You will also need to create the helper functions to move the images around the filesystem as you did last week, so if you need to refresh your memory with the `os` module be sure to take a look a the [docs](https://docs.python.org/3/library/os.html).\n",
        "\n",
        "Let's get started!"
      ]
    },
    {
      "cell_type": "markdown",
      "id": "cf0f4874",
      "metadata": {
        "id": "cf0f4874"
      },
      "source": [
        "_**NOTE:** To prevent errors from the autograder, pleave avoid editing or deleting non-graded cells in this notebook . Please only put your solutions in between the `### START CODE HERE` and `### END CODE HERE` code comments, and refrain from adding any new cells._"
      ]
    },
    {
      "cell_type": "code",
      "execution_count": 1,
      "id": "4ddb1314",
      "metadata": {
        "id": "4ddb1314",
        "tags": [
          "graded"
        ]
      },
      "outputs": [],
      "source": [
        "# grader-required-cell\n",
        "\n",
        "import os\n",
        "import zipfile\n",
        "import random\n",
        "import shutil\n",
        "import tensorflow as tf\n",
        "from tensorflow.keras.preprocessing.image import ImageDataGenerator\n",
        "from shutil import copyfile\n",
        "import matplotlib.pyplot as plt"
      ]
    },
    {
      "cell_type": "markdown",
      "id": "5860890f",
      "metadata": {
        "id": "5860890f"
      },
      "source": [
        "Download the dataset from its original source by running the cell below. \n",
        "\n",
        "Note that the `zip` file that contains the images is unzipped under the `/tmp` directory."
      ]
    },
    {
      "cell_type": "code",
      "execution_count": 2,
      "id": "1bdefb0c",
      "metadata": {
        "id": "1bdefb0c",
        "lines_to_next_cell": 2,
        "tags": [],
        "colab": {
          "base_uri": "https://localhost:8080/"
        },
        "outputId": "99988b60-7637-489c-a2d8-a3bde7f49c37"
      },
      "outputs": [
        {
          "output_type": "stream",
          "name": "stdout",
          "text": [
            "--2023-05-06 02:37:06--  https://download.microsoft.com/download/3/E/1/3E1C3F21-ECDB-4869-8368-6DEBA77B919F/kagglecatsanddogs_5340.zip\n",
            "Resolving download.microsoft.com (download.microsoft.com)... 104.112.206.150, 2600:1407:2800:29a::317f, 2600:1407:2800:29d::317f\n",
            "Connecting to download.microsoft.com (download.microsoft.com)|104.112.206.150|:443... connected.\n",
            "HTTP request sent, awaiting response... 200 OK\n",
            "Length: 824887076 (787M) [application/octet-stream]\n",
            "Saving to: ‘/tmp/cats-and-dogs.zip’\n",
            "\n",
            "/tmp/cats-and-dogs. 100%[===================>] 786.67M  65.6MB/s    in 13s     \n",
            "\n",
            "2023-05-06 02:37:21 (59.9 MB/s) - ‘/tmp/cats-and-dogs.zip’ saved [824887076/824887076]\n",
            "\n"
          ]
        }
      ],
      "source": [
        "# If the URL doesn't work, visit https://www.microsoft.com/en-us/download/confirmation.aspx?id=54765\n",
        "# And right click on the 'Download Manually' link to get a new URL to the dataset\n",
        "\n",
        "# Note: This is a very large dataset and will take some time to download\n",
        "\n",
        "!wget --no-check-certificate \\\n",
        "    \"https://download.microsoft.com/download/3/E/1/3E1C3F21-ECDB-4869-8368-6DEBA77B919F/kagglecatsanddogs_5340.zip\" \\\n",
        "    -O \"/tmp/cats-and-dogs.zip\"\n",
        "\n",
        "local_zip = '/tmp/cats-and-dogs.zip'\n",
        "zip_ref   = zipfile.ZipFile(local_zip, 'r')\n",
        "zip_ref.extractall('/tmp')\n",
        "zip_ref.close()"
      ]
    },
    {
      "cell_type": "markdown",
      "id": "5525b681",
      "metadata": {
        "id": "5525b681"
      },
      "source": [
        "Now the images are stored within the `/tmp/PetImages` directory. There is a subdirectory for each class, so one for dogs and one for cats."
      ]
    },
    {
      "cell_type": "code",
      "execution_count": 3,
      "id": "0ae17986",
      "metadata": {
        "id": "0ae17986",
        "tags": [
          "graded"
        ],
        "colab": {
          "base_uri": "https://localhost:8080/"
        },
        "outputId": "f4a5d6bd-bcb4-46ae-826b-ec1b82931206"
      },
      "outputs": [
        {
          "output_type": "stream",
          "name": "stdout",
          "text": [
            "There are 12500 images of dogs.\n",
            "There are 12500 images of cats.\n"
          ]
        }
      ],
      "source": [
        "# grader-required-cell\n",
        "\n",
        "source_path = '/tmp/PetImages'\n",
        "\n",
        "source_path_dogs = os.path.join(source_path, 'Dog')\n",
        "source_path_cats = os.path.join(source_path, 'Cat')\n",
        "\n",
        "# Deletes all non-image files (there are two .db files bundled into the dataset)\n",
        "!find /tmp/PetImages/ -type f ! -name \"*.jpg\" -exec rm {} +\n",
        "\n",
        "# os.listdir returns a list containing all files under the given path\n",
        "print(f\"There are {len(os.listdir(source_path_dogs))} images of dogs.\")\n",
        "print(f\"There are {len(os.listdir(source_path_cats))} images of cats.\")"
      ]
    },
    {
      "cell_type": "markdown",
      "id": "8601b15f",
      "metadata": {
        "id": "8601b15f"
      },
      "source": [
        "**Expected Output:**\n",
        "\n",
        "```\n",
        "There are 12500 images of dogs.\n",
        "There are 12500 images of cats.\n",
        "```"
      ]
    },
    {
      "cell_type": "markdown",
      "id": "405336eb",
      "metadata": {
        "id": "405336eb"
      },
      "source": [
        "You will need a directory for cats-v-dogs, and subdirectories for training\n",
        "and validation. These in turn will need subdirectories for 'cats' and 'dogs'. To accomplish this, complete the `create_train_val_dirs` below:"
      ]
    },
    {
      "cell_type": "code",
      "execution_count": 4,
      "id": "0e1c8e05",
      "metadata": {
        "cellView": "code",
        "id": "0e1c8e05",
        "tags": [
          "graded"
        ]
      },
      "outputs": [],
      "source": [
        "# grader-required-cell\n",
        "\n",
        "# Define root directory\n",
        "root_dir = '/tmp/cats-v-dogs'\n",
        "\n",
        "# Empty directory to prevent FileExistsError is the function is run several times\n",
        "if os.path.exists(root_dir):\n",
        "  shutil.rmtree(root_dir)\n",
        "\n",
        "# GRADED FUNCTION: create_train_val_dirs\n",
        "def create_train_val_dirs(root_path):\n",
        "  \"\"\"\n",
        "  Creates directories for the train and test sets\n",
        "  \n",
        "  Args:\n",
        "    root_path (string) - the base directory path to create subdirectories from\n",
        "  \n",
        "  Returns:\n",
        "    None\n",
        "  \"\"\"\n",
        "\n",
        "  ### START CODE HERE\n",
        "\n",
        "  # HINT:\n",
        "  # Use os.makedirs to create your directories with intermediate subdirectories\n",
        "  # Don't hardcode the paths. Use os.path.join to append the new directories to the root_path parameter\n",
        "\n",
        "  #make directory of training and validation\n",
        "  os.mkdir(root_path)\n",
        "\n",
        "  training = os.path.join(root_path,'training')\n",
        "  os.mkdir(training)\n",
        "  validation = os.path.join(root_path,'validation')\n",
        "  os.mkdir(validation)\n",
        "\n",
        "  #make directory of cats and dogs of training and validation\n",
        "  training_cats = os.path.join(training,'cats')\n",
        "  os.mkdir(training_cats)\n",
        "  training_dogs = os.path.join(training,'dogs')\n",
        "  os.mkdir(training_dogs)\n",
        "\n",
        "  validation_cats = os.path.join(validation,'cats')\n",
        "  os.mkdir(validation_cats)\n",
        "  validation_dogs = os.path.join(validation,'dogs')\n",
        "  os.mkdir(validation_dogs)\n",
        "           \n",
        "  \n",
        "  \n",
        "  ### END CODE HERE\n",
        "\n",
        "  \n",
        "try:\n",
        "  create_train_val_dirs(root_path=root_dir)\n",
        "except FileExistsError:\n",
        "  print(\"You should not be seeing this since the upper directory is removed beforehand\")"
      ]
    },
    {
      "cell_type": "code",
      "execution_count": 5,
      "id": "b0008863",
      "metadata": {
        "id": "b0008863",
        "tags": [
          "graded"
        ],
        "colab": {
          "base_uri": "https://localhost:8080/"
        },
        "outputId": "a25bf7c2-8cd9-425c-f04c-3ca93fff7a17"
      },
      "outputs": [
        {
          "output_type": "stream",
          "name": "stdout",
          "text": [
            "/tmp/cats-v-dogs/training\n",
            "/tmp/cats-v-dogs/validation\n",
            "/tmp/cats-v-dogs/training/dogs\n",
            "/tmp/cats-v-dogs/training/cats\n",
            "/tmp/cats-v-dogs/validation/dogs\n",
            "/tmp/cats-v-dogs/validation/cats\n"
          ]
        }
      ],
      "source": [
        "# grader-required-cell\n",
        "\n",
        "# Test your create_train_val_dirs function\n",
        "\n",
        "for rootdir, dirs, files in os.walk(root_dir):\n",
        "    for subdir in dirs:\n",
        "        print(os.path.join(rootdir, subdir))"
      ]
    },
    {
      "cell_type": "markdown",
      "id": "4c25e898",
      "metadata": {
        "id": "4c25e898"
      },
      "source": [
        "**Expected Output (directory order might vary):**\n",
        "\n",
        "``` txt\n",
        "/tmp/cats-v-dogs/training\n",
        "/tmp/cats-v-dogs/validation\n",
        "/tmp/cats-v-dogs/training/cats\n",
        "/tmp/cats-v-dogs/training/dogs\n",
        "/tmp/cats-v-dogs/validation/cats\n",
        "/tmp/cats-v-dogs/validation/dogs\n",
        "\n",
        "```"
      ]
    },
    {
      "cell_type": "markdown",
      "id": "9eafee8f",
      "metadata": {
        "id": "9eafee8f"
      },
      "source": [
        "Code the `split_data` function which takes in the following arguments:\n",
        "- SOURCE_DIR: directory containing the files\n",
        "\n",
        "- TRAINING_DIR: directory that a portion of the files will be copied to (will be used for training)\n",
        "\n",
        "- VALIDATION_DIR: directory that a portion of the files will be copied to (will be used for validation)\n",
        "\n",
        "- SPLIT_SIZE: determines the portion of images used for training.\n",
        "\n",
        "The files should be randomized, so that the training set is a random sample of the files, and the validation set is made up of the remaining files.\n",
        "\n",
        "For example, if `SOURCE_DIR` is `PetImages/Cat`, and `SPLIT_SIZE` is .9 then 90% of the images in `PetImages/Cat` will be copied to the `TRAINING_DIR` directory\n",
        "and 10% of the images will be copied to the `VALIDATION_DIR` directory.\n",
        "\n",
        "All images should be checked before the copy, so if they have a zero file length, they will be omitted from the copying process. If this is the case then your function should print out a message such as `\"filename is zero length, so ignoring.\"`. **You should perform this check before the split so that only non-zero images are considered when doing the actual split.**\n",
        "\n",
        "\n",
        "Hints:\n",
        "\n",
        "- `os.listdir(DIRECTORY)` returns a list with the contents of that directory.\n",
        "\n",
        "- `os.path.getsize(PATH)` returns the size of the file\n",
        "\n",
        "- `copyfile(source, destination)` copies a file from source to destination\n",
        "\n",
        "- `random.sample(list, len(list))` shuffles a list"
      ]
    },
    {
      "cell_type": "code",
      "execution_count": 8,
      "id": "7c5d7d0e",
      "metadata": {
        "cellView": "code",
        "id": "7c5d7d0e",
        "tags": [
          "graded"
        ]
      },
      "outputs": [],
      "source": [
        "# grader-required-cell\n",
        "\n",
        "# GRADED FUNCTION: split_data\n",
        "def split_data(SOURCE_DIR, TRAINING_DIR, VALIDATION_DIR, SPLIT_SIZE):\n",
        "  \"\"\"\n",
        "  Splits the data into train and test sets\n",
        "  \n",
        "  Args:\n",
        "    SOURCE_DIR (string): directory path containing the images\n",
        "    TRAINING_DIR (string): directory path to be used for training\n",
        "    VALIDATION_DIR (string): directory path to be used for validation\n",
        "    SPLIT_SIZE (float): proportion of the dataset to be used for training\n",
        "    \n",
        "  Returns:\n",
        "    None\n",
        "  \"\"\"\n",
        "  ### START CODE HERE\n",
        "\n",
        "  #create an empty list\n",
        "  new_list = []\n",
        "\n",
        "  #filter the zero file and append the rest to new list\n",
        "  for file_name in os.listdir(SOURCE_DIR):\n",
        "    file_path = SOURCE_DIR+file_name\n",
        "    if os.path.getsize(file_path) == 0:\n",
        "      print(file_name+\" is zero file, so ignoring.\")\n",
        "    else:\n",
        "      new_list.append(file_name)\n",
        "\n",
        "  #shuffle new list\n",
        "  shuffle_list = random.sample(new_list, len(new_list))\n",
        "\n",
        "  #split into specific size to training and validation set\n",
        "  training_num = int(SPLIT_SIZE*len(new_list))\n",
        "  validation_num = int(len(new_list)-training_num)\n",
        "\n",
        "  #copy file into destination path\n",
        "  training_set = shuffle_list[0:training_num]\n",
        "  for file_name in training_set:\n",
        "    file_path = SOURCE_DIR + file_name\n",
        "    destination = TRAINING_DIR + file_name\n",
        "    copyfile(file_path, destination)\n",
        "\n",
        "  validation_set = shuffle_list[-validation_num:]\n",
        "  for file_name in validation_set:\n",
        "    file_path = SOURCE_DIR + file_name\n",
        "    destination = VALIDATION_DIR + file_name\n",
        "    copyfile(file_path, destination)\n",
        "\n",
        "\n",
        "  ### END CODE HERE"
      ]
    },
    {
      "cell_type": "code",
      "execution_count": 9,
      "id": "103420a2",
      "metadata": {
        "id": "103420a2",
        "tags": [
          "graded"
        ],
        "colab": {
          "base_uri": "https://localhost:8080/"
        },
        "outputId": "34004809-1752-4d4c-f2db-2e99f789c81c"
      },
      "outputs": [
        {
          "output_type": "stream",
          "name": "stdout",
          "text": [
            "666.jpg is zero file, so ignoring.\n",
            "11702.jpg is zero file, so ignoring.\n",
            "\n",
            "\n",
            "Original cat's directory has 12500 images\n",
            "Original dog's directory has 12500 images\n",
            "\n",
            "There are 11249 images of cats for training\n",
            "There are 11249 images of dogs for training\n",
            "There are 1250 images of cats for validation\n",
            "There are 1250 images of dogs for validation\n"
          ]
        }
      ],
      "source": [
        "# grader-required-cell\n",
        "\n",
        "# Test your split_data function\n",
        "\n",
        "# Define paths\n",
        "CAT_SOURCE_DIR = \"/tmp/PetImages/Cat/\"\n",
        "DOG_SOURCE_DIR = \"/tmp/PetImages/Dog/\"\n",
        "\n",
        "TRAINING_DIR = \"/tmp/cats-v-dogs/training/\"\n",
        "VALIDATION_DIR = \"/tmp/cats-v-dogs/validation/\"\n",
        "\n",
        "TRAINING_CATS_DIR = os.path.join(TRAINING_DIR, \"cats/\")\n",
        "VALIDATION_CATS_DIR = os.path.join(VALIDATION_DIR, \"cats/\")\n",
        "\n",
        "TRAINING_DOGS_DIR = os.path.join(TRAINING_DIR, \"dogs/\")\n",
        "VALIDATION_DOGS_DIR = os.path.join(VALIDATION_DIR, \"dogs/\")\n",
        "\n",
        "# Empty directories in case you run this cell multiple times\n",
        "if len(os.listdir(TRAINING_CATS_DIR)) > 0:\n",
        "  for file in os.scandir(TRAINING_CATS_DIR):\n",
        "    os.remove(file.path)\n",
        "if len(os.listdir(TRAINING_DOGS_DIR)) > 0:\n",
        "  for file in os.scandir(TRAINING_DOGS_DIR):\n",
        "    os.remove(file.path)\n",
        "if len(os.listdir(VALIDATION_CATS_DIR)) > 0:\n",
        "  for file in os.scandir(VALIDATION_CATS_DIR):\n",
        "    os.remove(file.path)\n",
        "if len(os.listdir(VALIDATION_DOGS_DIR)) > 0:\n",
        "  for file in os.scandir(VALIDATION_DOGS_DIR):\n",
        "    os.remove(file.path)\n",
        "\n",
        "# Define proportion of images used for training\n",
        "split_size = .9\n",
        "\n",
        "# Run the function\n",
        "# NOTE: Messages about zero length images should be printed out\n",
        "split_data(CAT_SOURCE_DIR, TRAINING_CATS_DIR, VALIDATION_CATS_DIR, split_size)\n",
        "split_data(DOG_SOURCE_DIR, TRAINING_DOGS_DIR, VALIDATION_DOGS_DIR, split_size)\n",
        "\n",
        "# Your function should perform copies rather than moving images so original directories should contain unchanged images\n",
        "print(f\"\\n\\nOriginal cat's directory has {len(os.listdir(CAT_SOURCE_DIR))} images\")\n",
        "print(f\"Original dog's directory has {len(os.listdir(DOG_SOURCE_DIR))} images\\n\")\n",
        "\n",
        "# Training and validation splits. Check that the number of images matches the expected output.\n",
        "print(f\"There are {len(os.listdir(TRAINING_CATS_DIR))} images of cats for training\")\n",
        "print(f\"There are {len(os.listdir(TRAINING_DOGS_DIR))} images of dogs for training\")\n",
        "print(f\"There are {len(os.listdir(VALIDATION_CATS_DIR))} images of cats for validation\")\n",
        "print(f\"There are {len(os.listdir(VALIDATION_DOGS_DIR))} images of dogs for validation\")"
      ]
    },
    {
      "cell_type": "markdown",
      "id": "68dee028",
      "metadata": {
        "id": "68dee028"
      },
      "source": [
        "**Expected Output:**\n",
        "\n",
        "```\n",
        "666.jpg is zero length, so ignoring.\n",
        "11702.jpg is zero length, so ignoring.\n",
        "\n",
        "\n",
        "Original cat's directory has 12500 images\n",
        "Original dog's directory has 12500 images\n",
        "\n",
        "There are 11249 images of cats for training\n",
        "There are 11249 images of dogs for training\n",
        "There are 1250 images of cats for validation\n",
        "There are 1250 images of dogs for validation\n",
        "```"
      ]
    },
    {
      "cell_type": "markdown",
      "id": "029013be",
      "metadata": {
        "id": "029013be"
      },
      "source": [
        "Now that you have successfully organized the data in a way that can be easily fed to Keras' `ImageDataGenerator`, it is time for you to code the generators that will yield batches of images, both for training and validation. For this, complete the `train_val_generators` function below.\n",
        "\n",
        "Something important to note is that the images in this dataset come in a variety of resolutions. Luckily, the `flow_from_directory` method allows you to standarize this by defining a tuple called `target_size` that will be used to convert each image to this target resolution. **For this exercise use a `target_size` of (150, 150)**."
      ]
    },
    {
      "cell_type": "code",
      "execution_count": 10,
      "id": "35525d12",
      "metadata": {
        "cellView": "code",
        "id": "35525d12",
        "tags": [
          "graded"
        ]
      },
      "outputs": [],
      "source": [
        "# grader-required-cell\n",
        "\n",
        "# GRADED FUNCTION: train_val_generators\n",
        "def train_val_generators(TRAINING_DIR, VALIDATION_DIR):\n",
        "  \"\"\"\n",
        "  Creates the training and validation data generators\n",
        "  \n",
        "  Args:\n",
        "    TRAINING_DIR (string): directory path containing the training images\n",
        "    VALIDATION_DIR (string): directory path containing the testing/validation images\n",
        "    \n",
        "  Returns:\n",
        "    train_generator, validation_generator - tuple containing the generators\n",
        "  \"\"\"\n",
        "  ### START CODE HERE\n",
        "\n",
        "  # Instantiate the ImageDataGenerator class (don't forget to set the arguments to augment the images)\n",
        "  train_datagen = ImageDataGenerator(rescale=(1./255),\n",
        "                                     rotation_range=40,\n",
        "                                     width_shift_range=0.2,\n",
        "                                     height_shift_range=0.2,\n",
        "                                     shear_range=0.2,\n",
        "                                     zoom_range=0.2,\n",
        "                                     horizontal_flip=True,\n",
        "                                     fill_mode='nearest')\n",
        "\n",
        "  # Pass in the appropriate arguments to the flow_from_directory method\n",
        "  train_generator = train_datagen.flow_from_directory(directory=TRAINING_DIR,\n",
        "                                                      batch_size=20,\n",
        "                                                      class_mode='binary',\n",
        "                                                      target_size=(150,150))\n",
        "\n",
        "  # Instantiate the ImageDataGenerator class (don't forget to set the rescale argument)\n",
        "  validation_datagen = ImageDataGenerator(rescale=(1./255))\n",
        "\n",
        "  # Pass in the appropriate arguments to the flow_from_directory method\n",
        "  validation_generator = validation_datagen.flow_from_directory(directory=VALIDATION_DIR,\n",
        "                                                                batch_size=20,\n",
        "                                                                class_mode='binary',\n",
        "                                                                target_size=(150,150))\n",
        "  ### END CODE HERE\n",
        "  return train_generator, validation_generator"
      ]
    },
    {
      "cell_type": "code",
      "execution_count": 11,
      "id": "d2198ef1",
      "metadata": {
        "id": "d2198ef1",
        "tags": [
          "graded"
        ],
        "colab": {
          "base_uri": "https://localhost:8080/"
        },
        "outputId": "c68b8100-e4f9-46bf-a373-911426bb0a16"
      },
      "outputs": [
        {
          "output_type": "stream",
          "name": "stdout",
          "text": [
            "Found 22498 images belonging to 2 classes.\n",
            "Found 2500 images belonging to 2 classes.\n"
          ]
        }
      ],
      "source": [
        "# grader-required-cell\n",
        "\n",
        "# Test your generators\n",
        "train_generator, validation_generator = train_val_generators(TRAINING_DIR, VALIDATION_DIR)"
      ]
    },
    {
      "cell_type": "markdown",
      "id": "92aaacc7",
      "metadata": {
        "id": "92aaacc7"
      },
      "source": [
        "**Expected Output:**\n",
        "\n",
        "```\n",
        "Found 22498 images belonging to 2 classes.\n",
        "Found 2500 images belonging to 2 classes.\n",
        "```\n"
      ]
    },
    {
      "cell_type": "markdown",
      "id": "e88c9dde",
      "metadata": {
        "id": "e88c9dde"
      },
      "source": [
        "One last step before training is to define the architecture of the model that will be trained.\n",
        "\n",
        "Complete the `create_model` function below which should return a Keras' `Sequential` model.\n",
        "\n",
        "Aside from defining the architecture of the model, you should also compile it so make sure to use a `loss` function that is compatible with the `class_mode` you defined in the previous exercise, which should also be compatible with the output of your network. You can tell if they aren't compatible if you get an error during training.\n",
        "\n",
        "**Note that you should use at least 3 convolution layers to achieve the desired performance.**"
      ]
    },
    {
      "cell_type": "code",
      "execution_count": 12,
      "id": "d88b8b62",
      "metadata": {
        "cellView": "code",
        "id": "d88b8b62",
        "lines_to_next_cell": 2,
        "tags": [
          "graded"
        ]
      },
      "outputs": [],
      "source": [
        "# grader-required-cell\n",
        "\n",
        "# GRADED FUNCTION: create_model\n",
        "def create_model():\n",
        "  # DEFINE A KERAS MODEL TO CLASSIFY CATS V DOGS\n",
        "  # USE AT LEAST 3 CONVOLUTION LAYERS\n",
        "\n",
        "  ### START CODE HERE\n",
        "\n",
        "  model = tf.keras.models.Sequential([ \n",
        "      tf.keras.layers.Conv2D(16,(3,3),input_shape=(150,150,3), activation='relu'),\n",
        "      tf.keras.layers.MaxPool2D(2,2),\n",
        "      tf.keras.layers.Conv2D(32,(3,3), activation='relu'),\n",
        "      tf.keras.layers.MaxPool2D(2,2),\n",
        "      tf.keras.layers.Conv2D(64,(3,3), activation='relu'),\n",
        "      tf.keras.layers.MaxPool2D(2,2),\n",
        "      tf.keras.layers.Flatten(),\n",
        "      tf.keras.layers.Dense(512,activation='relu'),\n",
        "      tf.keras.layers.Dense(1,activation='sigmoid')\n",
        "\n",
        "  ])\n",
        "\n",
        "  \n",
        "  model.compile(optimizer=tf.keras.optimizers.RMSprop(learning_rate=0.001),\n",
        "                loss='binary_crossentropy',\n",
        "                metrics=['accuracy']) \n",
        "    \n",
        "  ### END CODE HERE\n",
        "\n",
        "  return model"
      ]
    },
    {
      "cell_type": "markdown",
      "id": "36ad5144",
      "metadata": {
        "id": "36ad5144"
      },
      "source": [
        "Now it is time to train your model!\n",
        "\n",
        "Note: You can ignore the `UserWarning: Possibly corrupt EXIF data.` warnings."
      ]
    },
    {
      "cell_type": "code",
      "execution_count": 13,
      "id": "94f6a40a",
      "metadata": {
        "id": "94f6a40a",
        "tags": [],
        "colab": {
          "base_uri": "https://localhost:8080/"
        },
        "outputId": "84ff9744-c681-4575-e575-6d49b03c4eb4"
      },
      "outputs": [
        {
          "output_type": "stream",
          "name": "stdout",
          "text": [
            "Epoch 1/15\n",
            "  84/1125 [=>............................] - ETA: 14:32 - loss: 0.7273 - accuracy: 0.5238"
          ]
        },
        {
          "output_type": "stream",
          "name": "stderr",
          "text": [
            "/usr/local/lib/python3.10/dist-packages/PIL/TiffImagePlugin.py:819: UserWarning: Truncated File Read\n",
            "  warnings.warn(str(msg))\n"
          ]
        },
        {
          "output_type": "stream",
          "name": "stdout",
          "text": [
            "1125/1125 [==============================] - 970s 861ms/step - loss: 0.6414 - accuracy: 0.6266 - val_loss: 0.5565 - val_accuracy: 0.7168\n",
            "Epoch 2/15\n",
            "1125/1125 [==============================] - 937s 833ms/step - loss: 0.5829 - accuracy: 0.6908 - val_loss: 0.5680 - val_accuracy: 0.7192\n",
            "Epoch 3/15\n",
            "1125/1125 [==============================] - 938s 834ms/step - loss: 0.5525 - accuracy: 0.7187 - val_loss: 0.4882 - val_accuracy: 0.7716\n",
            "Epoch 4/15\n",
            "1125/1125 [==============================] - 947s 841ms/step - loss: 0.5309 - accuracy: 0.7374 - val_loss: 0.4510 - val_accuracy: 0.7928\n",
            "Epoch 5/15\n",
            "1125/1125 [==============================] - 931s 828ms/step - loss: 0.5104 - accuracy: 0.7498 - val_loss: 0.4512 - val_accuracy: 0.7928\n",
            "Epoch 6/15\n",
            "1125/1125 [==============================] - 938s 834ms/step - loss: 0.4979 - accuracy: 0.7580 - val_loss: 0.4487 - val_accuracy: 0.7940\n",
            "Epoch 7/15\n",
            "1125/1125 [==============================] - 939s 835ms/step - loss: 0.4795 - accuracy: 0.7754 - val_loss: 0.4484 - val_accuracy: 0.7908\n",
            "Epoch 8/15\n",
            "1125/1125 [==============================] - 921s 819ms/step - loss: 0.4720 - accuracy: 0.7802 - val_loss: 0.4450 - val_accuracy: 0.8044\n",
            "Epoch 9/15\n",
            "1125/1125 [==============================] - 936s 832ms/step - loss: 0.4567 - accuracy: 0.7885 - val_loss: 0.3727 - val_accuracy: 0.8364\n",
            "Epoch 10/15\n",
            "1125/1125 [==============================] - 921s 818ms/step - loss: 0.4401 - accuracy: 0.8001 - val_loss: 0.3712 - val_accuracy: 0.8408\n",
            "Epoch 11/15\n",
            "1125/1125 [==============================] - 918s 816ms/step - loss: 0.4355 - accuracy: 0.8041 - val_loss: 0.3713 - val_accuracy: 0.8360\n",
            "Epoch 12/15\n",
            "1125/1125 [==============================] - 932s 829ms/step - loss: 0.4238 - accuracy: 0.8055 - val_loss: 0.3362 - val_accuracy: 0.8520\n",
            "Epoch 13/15\n",
            "1125/1125 [==============================] - 951s 845ms/step - loss: 0.4132 - accuracy: 0.8140 - val_loss: 0.4991 - val_accuracy: 0.7648\n",
            "Epoch 14/15\n",
            "1125/1125 [==============================] - 957s 850ms/step - loss: 0.4101 - accuracy: 0.8179 - val_loss: 0.3807 - val_accuracy: 0.8340\n",
            "Epoch 15/15\n",
            "1125/1125 [==============================] - 959s 853ms/step - loss: 0.4054 - accuracy: 0.8222 - val_loss: 0.3815 - val_accuracy: 0.8356\n"
          ]
        }
      ],
      "source": [
        "# Get the untrained model\n",
        "model = create_model()\n",
        "\n",
        "# Train the model\n",
        "# Note that this may take some time.\n",
        "history = model.fit(train_generator,\n",
        "                    epochs=15,\n",
        "                    verbose=1,\n",
        "                    validation_data=validation_generator)"
      ]
    },
    {
      "cell_type": "markdown",
      "id": "ac32e038",
      "metadata": {
        "id": "ac32e038"
      },
      "source": [
        "Once training has finished, you can run the following cell to check the training and validation accuracy achieved at the end of each epoch.\n",
        "\n",
        "**To pass this assignment, your model should achieve a training and validation accuracy of at least 80% and the final testing accuracy should be either higher than the training one or have a 5% difference at maximum**. If your model didn't achieve these thresholds, try training again with a different model architecture, remember to use at least 3 convolutional layers or try tweaking the image augmentation process.\n",
        "\n",
        "You might wonder why the training threshold to pass this assignment is significantly lower compared to last week's assignment. Image augmentation does help with overfitting but usually this comes at the expense of requiring more training time. To keep the training time reasonable, the same number of epochs as in the previous assignment are kept. \n",
        "\n",
        "However, as an optional exercise you are encouraged to try training for more epochs and to achieve really good training and validation accuracies."
      ]
    },
    {
      "cell_type": "code",
      "execution_count": 14,
      "id": "6767c7f2",
      "metadata": {
        "id": "6767c7f2",
        "tags": [],
        "colab": {
          "base_uri": "https://localhost:8080/",
          "height": 883
        },
        "outputId": "c559f7f2-644f-43d6-9a33-d6908277b1b5"
      },
      "outputs": [
        {
          "output_type": "display_data",
          "data": {
            "text/plain": [
              "<Figure size 640x480 with 1 Axes>"
            ],
            "image/png": "[encoded data removed]"
          },
          "metadata": {}
        },
        {
          "output_type": "stream",
          "name": "stdout",
          "text": [
            "\n"
          ]
        },
        {
          "output_type": "display_data",
          "data": {
            "text/plain": [
              "<Figure size 640x480 with 1 Axes>"
            ],
            "image/png": "[encoded data removed]"
          },
          "metadata": {}
        }
      ],
      "source": [
        "#-----------------------------------------------------------\n",
        "# Retrieve a list of list results on training and test data\n",
        "# sets for each training epoch\n",
        "#-----------------------------------------------------------\n",
        "acc=history.history['accuracy']\n",
        "val_acc=history.history['val_accuracy']\n",
        "loss=history.history['loss']\n",
        "val_loss=history.history['val_loss']\n",
        "\n",
        "epochs=range(len(acc)) # Get number of epochs\n",
        "\n",
        "#------------------------------------------------\n",
        "# Plot training and validation accuracy per epoch\n",
        "#------------------------------------------------\n",
        "plt.plot(epochs, acc, 'r', \"Training Accuracy\")\n",
        "plt.plot(epochs, val_acc, 'b', \"Validation Accuracy\")\n",
        "plt.title('Training and validation accuracy')\n",
        "plt.show()\n",
        "print(\"\")\n",
        "\n",
        "#------------------------------------------------\n",
        "# Plot training and validation loss per epoch\n",
        "#------------------------------------------------\n",
        "plt.plot(epochs, loss, 'r', \"Training Loss\")\n",
        "plt.plot(epochs, val_loss, 'b', \"Validation Loss\")\n",
        "plt.show()"
      ]
    },
    {
      "cell_type": "markdown",
      "id": "c70e6688",
      "metadata": {
        "id": "c70e6688"
      },
      "source": [
        "You will probably encounter that the model is overfitting, which means that it is doing a great job at classifying the images in the training set but struggles with new data. This is perfectly fine and you will learn how to mitigate this issue in the upcomming week.\n",
        "\n",
        "Before closing the assignment, be sure to also download the `history.pkl` file which contains the information of the training history of your model. You can download this file by running the cell below:"
      ]
    },
    {
      "cell_type": "code",
      "execution_count": 15,
      "id": "787bba4a",
      "metadata": {
        "id": "787bba4a",
        "tags": [],
        "colab": {
          "base_uri": "https://localhost:8080/",
          "height": 17
        },
        "outputId": "0cf0aef6-a65e-46df-d710-37ed7d9801b6"
      },
      "outputs": [
        {
          "output_type": "display_data",
          "data": {
            "text/plain": [
              "<IPython.core.display.Javascript object>"
            ],
            "application/javascript": [
              "\n",
              "    async function download(id, filename, size) {\n",
              "      if (!google.colab.kernel.accessAllowed) {\n",
              "        return;\n",
              "      }\n",
              "      const div = document.createElement('div');\n",
              "      const label = document.createElement('label');\n",
              "      label.textContent = `Downloading \"${filename}\": `;\n",
              "      div.appendChild(label);\n",
              "      const progress = document.createElement('progress');\n",
              "      progress.max = size;\n",
              "      div.appendChild(progress);\n",
              "      document.body.appendChild(div);\n",
              "\n",
              "      const buffers = [];\n",
              "      let downloaded = 0;\n",
              "\n",
              "      const channel = await google.colab.kernel.comms.open(id);\n",
              "      // Send a message to notify the kernel that we're ready.\n",
              "      channel.send({})\n",
              "\n",
              "      for await (const message of channel.messages) {\n",
              "        // Send a message to notify the kernel that we're ready.\n",
              "        channel.send({})\n",
              "        if (message.buffers) {\n",
              "          for (const buffer of message.buffers) {\n",
              "            buffers.push(buffer);\n",
              "            downloaded += buffer.byteLength;\n",
              "            progress.value = downloaded;\n",
              "          }\n",
              "        }\n",
              "      }\n",
              "      const blob = new Blob(buffers, {type: 'application/binary'});\n",
              "      const a = document.createElement('a');\n",
              "      a.href = window.URL.createObjectURL(blob);\n",
              "      a.download = filename;\n",
              "      div.appendChild(a);\n",
              "      a.click();\n",
              "      div.remove();\n",
              "    }\n",
              "  "
            ]
          },
          "metadata": {}
        },
        {
          "output_type": "display_data",
          "data": {
            "text/plain": [
              "<IPython.core.display.Javascript object>"
            ],
            "application/javascript": [
              "download(\"download_1d6f9049-1d60-4a27-90ad-f446d486aea6\", \"history_augmented.pkl\", 616)"
            ]
          },
          "metadata": {}
        }
      ],
      "source": [
        "def download_history():\n",
        "  import pickle\n",
        "  from google.colab import files\n",
        "\n",
        "  with open('history_augmented.pkl', 'wb') as f:\n",
        "    pickle.dump(history.history, f)\n",
        "\n",
        "  files.download('history_augmented.pkl')\n",
        "\n",
        "download_history()"
      ]
    },
    {
      "cell_type": "markdown",
      "id": "2f903d3f",
      "metadata": {
        "id": "2f903d3f"
      },
      "source": [
        "## Download your notebook for grading\n",
        "\n",
        "Along with the `history.pkl` file, you will also need to submit your solution notebook for grading. The following code cells will check if this notebook's grader metadata (i.e. hidden data in the notebook needed for grading) is not modified by your workspace. This will ensure that the autograder can evaluate your code properly. Depending on its output, you will either:\n",
        "\n",
        "* *if the metadata is intact*: Download the current notebook. Click on the File tab on the upper left corner of the screen then click on `Download -> Download .ipynb.` You can name it anything you want as long as it is a valid `.ipynb` (jupyter notebook) file.\n",
        "<br>\n",
        "\n",
        "* *if the metadata is missing*: A new notebook with your solutions will be created on this Colab workspace. It should be downloaded automatically and you can submit that to the grader. "
      ]
    },
    {
      "cell_type": "code",
      "execution_count": 16,
      "id": "f23f6e4c",
      "metadata": {
        "colab": {
          "base_uri": "https://localhost:8080/"
        },
        "id": "f23f6e4c",
        "outputId": "c07d9ad1-a081-46ab-d21a-ff0b441c89f7"
      },
      "outputs": [
        {
          "output_type": "stream",
          "name": "stdout",
          "text": [
            "--2023-05-06 06:50:43--  https://storage.googleapis.com/tensorflow-1-public/colab_metadata_checker.py\n",
            "Resolving storage.googleapis.com (storage.googleapis.com)... 142.250.1.128, 108.177.121.128, 142.250.103.128, ...\n",
            "Connecting to storage.googleapis.com (storage.googleapis.com)|142.250.1.128|:443... connected.\n",
            "HTTP request sent, awaiting response... 200 OK\n",
            "Length: 1980 (1.9K) [text/x-python-script]\n",
            "Saving to: ‘colab_metadata_checker.py’\n",
            "\n",
            "\r          colab_met   0%[                    ]       0  --.-KB/s               \rcolab_metadata_chec 100%[===================>]   1.93K  --.-KB/s    in 0s      \n",
            "\n",
            "2023-05-06 06:50:43 (24.2 MB/s) - ‘colab_metadata_checker.py’ saved [1980/1980]\n",
            "\n"
          ]
        }
      ],
      "source": [
        "# Download metadata checker\n",
        "!wget -nc https://storage.googleapis.com/tensorflow-1-public/colab_metadata_checker.py"
      ]
    },
    {
      "cell_type": "code",
      "execution_count": 17,
      "id": "3a2365ef",
      "metadata": {
        "colab": {
          "base_uri": "https://localhost:8080/"
        },
        "id": "3a2365ef",
        "outputId": "73e1b746-41da-49c8-ad45-54aa19ae1097"
      },
      "outputs": [
        {
          "output_type": "stream",
          "name": "stdout",
          "text": [
            "Grader metadata detected! You can download this notebook by clicking `File > Download > Download as .ipynb` and submit it to the grader!\n"
          ]
        }
      ],
      "source": [
        "import colab_metadata_checker\n",
        "\n",
        "# Please see the output of this cell to see which file you need to submit to the grader\n",
        "colab_metadata_checker.run('C2W2_Assignment_fixed.ipynb')"
      ]
    },
    {
      "cell_type": "markdown",
      "id": "83992ee5",
      "metadata": {
        "id": "83992ee5"
      },
      "source": [
        "**Please disregard the following note if the notebook metadata is detected**\n",
        "\n",
        "_Note: Just in case the download fails for the second point above, you can also do these steps:_\n",
        "* _Click the Folder icon on the left side of this screen to open the File Manager._\n",
        "* _Click the Folder Refresh icon in the File Manager to see the latest files in the workspace. You should see a file ending with a `_fixed.ipynb`._\n",
        "* _Right-click on that file to save locally and submit it to the grader._\n"
      ]
    },
    {
      "cell_type": "markdown",
      "id": "9d1a6480",
      "metadata": {
        "id": "9d1a6480"
      },
      "source": [
        "**Congratulations on finishing this week's assignment!**\n",
        "\n",
        "You have successfully implemented a convolutional neural network that classifies images of cats and dogs, along with the helper functions needed to pre-process the images!\n",
        "\n",
        "**Keep it up!**"
      ]
    }
  ],
  "metadata": {
    "accelerator": "TPU",
    "kernelspec": {
      "display_name": "Python 3",
      "language": "python",
      "name": "python3"
    },
    "language_info": {
      "codemirror_mode": {
        "name": "ipython",
        "version": 3
      },
      "file_extension": ".py",
      "mimetype": "text/x-python",
      "name": "python",
      "nbconvert_exporter": "python",
      "pygments_lexer": "ipython3",
      "version": "3.7.4"
    },
    "colab": {
      "provenance": []
    },
    "gpuClass": "standard"
  },
  "nbformat": 4,
  "nbformat_minor": 5
}
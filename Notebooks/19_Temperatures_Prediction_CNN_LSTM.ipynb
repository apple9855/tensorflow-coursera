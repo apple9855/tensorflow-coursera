{
  "cells": [
    {
      "cell_type": "markdown",
      "metadata": {
        "id": "view-in-github",
        "colab_type": "text"
      },
      "source": [
        "<a href=\"https://colab.research.google.com/github/apple9855/tensorflow-coursera/blob/master/Notebooks/19_Temperatures_Prediction_CNN_LSTM.ipynb\" target=\"_parent\"><img src=\"https://colab.research.google.com/assets/colab-badge.svg\" alt=\"Open In Colab\"/></a>"
      ]
    },
    {
      "cell_type": "markdown",
      "metadata": {
        "id": "OZCKC3equ_xO"
      },
      "source": [
        "# Week 4: Using real world data\n",
        "\n",
        "Welcome! So far you have worked exclusively with generated data. This time you will be using the [Daily Minimum Temperatures in Melbourne](https://github.com/jbrownlee/Datasets/blob/master/daily-min-temperatures.csv) dataset which contains data of the daily minimum temperatures recorded in Melbourne from 1981 to 1990. In addition to be using Tensorflow's layers for processing sequence data such as Recurrent layers or LSTMs you will also use Convolutional layers to improve the model's performance.\n",
        "\n",
        "Let's get started!"
      ]
    },
    {
      "cell_type": "markdown",
      "metadata": {
        "id": "lm5g4vplu_xQ"
      },
      "source": [
        "_**NOTE:** To prevent errors from the autograder, you are not allowed to edit or delete some of the cells in this notebook . Please only put your solutions in between the `### START CODE HERE` and `### END CODE HERE` code comments, and also refrain from adding any new cells. **Once you have passed this assignment** and want to experiment with any of the locked cells, you may follow the instructions at the bottom of this notebook._"
      ]
    },
    {
      "cell_type": "code",
      "execution_count": null,
      "metadata": {
        "deletable": false,
        "editable": false,
        "id": "56XEQOGknrAk"
      },
      "outputs": [],
      "source": [
        "import csv\n",
        "import pickle\n",
        "import numpy as np\n",
        "import tensorflow as tf\n",
        "import matplotlib.pyplot as plt\n",
        "from dataclasses import dataclass\n",
        "from absl import logging\n",
        "logging.set_verbosity(logging.ERROR)"
      ]
    },
    {
      "cell_type": "markdown",
      "metadata": {
        "id": "HwFYYqT8u_xQ"
      },
      "source": [
        "Begin by looking at the structure of the csv that contains the data:"
      ]
    },
    {
      "cell_type": "code",
      "execution_count": null,
      "metadata": {
        "deletable": false,
        "editable": false,
        "id": "VO18_tncu_xQ",
        "outputId": "0f4ff000-f219-473a-febb-3eccd2aa2c69"
      },
      "outputs": [
        {
          "name": "stdout",
          "output_type": "stream",
          "text": [
            "Header looks like this:\n",
            "\n",
            "\"Date\",\"Temp\"\n",
            "\n",
            "First data point looks like this:\n",
            "\n",
            "\"1981-01-01\",20.7\n",
            "\n",
            "Second data point looks like this:\n",
            "\n",
            "\"1981-01-02\",17.9\n",
            "\n"
          ]
        }
      ],
      "source": [
        "TEMPERATURES_CSV = './data/daily-min-temperatures.csv'\n",
        "\n",
        "with open(TEMPERATURES_CSV, 'r') as csvfile:\n",
        "    print(f\"Header looks like this:\\n\\n{csvfile.readline()}\")\n",
        "    print(f\"First data point looks like this:\\n\\n{csvfile.readline()}\")\n",
        "    print(f\"Second data point looks like this:\\n\\n{csvfile.readline()}\")"
      ]
    },
    {
      "cell_type": "markdown",
      "metadata": {
        "id": "C-pozmMbu_xR"
      },
      "source": [
        "As you can see, each data point is composed of the date and the recorded minimum temperature for that date.\n",
        "\n",
        "\n",
        "In the first exercise you will code a function to read the data from the csv but for now run the next cell to load a helper function to plot the time series."
      ]
    },
    {
      "cell_type": "code",
      "execution_count": null,
      "metadata": {
        "deletable": false,
        "editable": false,
        "id": "sLl52leVp5wU"
      },
      "outputs": [],
      "source": [
        "def plot_series(time, series, format=\"-\", start=0, end=None):\n",
        "    plt.plot(time[start:end], series[start:end], format)\n",
        "    plt.xlabel(\"Time\")\n",
        "    plt.ylabel(\"Value\")\n",
        "    plt.grid(True)"
      ]
    },
    {
      "cell_type": "markdown",
      "metadata": {
        "id": "P_kvygRKu_xR"
      },
      "source": [
        "## Parsing the raw data\n",
        "Now you need to read the data from the csv file. To do so, complete the `parse_data_from_file` function.\n",
        "\n",
        "A couple of things to note:\n",
        "\n",
        "- You should omit the first line as the file contains headers.\n",
        "- There is no need to save the data points as numpy arrays, regular lists is fine.\n",
        "- To read from csv files use `csv.reader` by passing the appropriate arguments.\n",
        "- `csv.reader` returns an iterable that returns each row in every iteration. So the temperature can be accessed via row[1] and the date can be discarded.\n",
        "- The `times` list should contain every timestep (starting at zero), which is just a sequence of ordered numbers with the same length as the `temperatures` list.\n",
        "- The values of the `temperatures` should be of `float` type. You can use Python's built-in `float` function to ensure this."
      ]
    },
    {
      "cell_type": "code",
      "execution_count": null,
      "metadata": {
        "deletable": false,
        "id": "NcG9r1eClbTh"
      },
      "outputs": [],
      "source": [
        "def parse_data_from_file(filename):\n",
        "\n",
        "    times = []\n",
        "    temperatures = []\n",
        "\n",
        "    with open(filename) as csvfile:\n",
        "\n",
        "        ### START CODE HERE\n",
        "\n",
        "        reader = csv.reader(csvfile, delimiter=\",\")\n",
        "        next(reader)\n",
        "        step=0\n",
        "        for row in reader:\n",
        "            times.append(step)\n",
        "            temperatures.append(float(row[1]))\n",
        "            step+=1\n",
        "    times = np.array(times)\n",
        "    temperatures = np.array(temperatures)\n",
        "        ### END CODE HERE\n",
        "\n",
        "    return times, temperatures"
      ]
    },
    {
      "cell_type": "markdown",
      "metadata": {
        "id": "v5GeDeuYu_xR"
      },
      "source": [
        "The next cell will use your function to compute the `times` and `temperatures` and will save these as numpy arrays within the `G` dataclass. This cell will also plot the time series:"
      ]
    },
    {
      "cell_type": "code",
      "execution_count": null,
      "metadata": {
        "deletable": false,
        "editable": false,
        "id": "hgafKCL_u_xR",
        "outputId": "e97f122b-43a6-4f81-8873-cea3cd174830"
      },
      "outputs": [
        {
          "data": {
            "image/png": "[encoded data removed]",
            "text/plain": [
              "<Figure size 720x432 with 1 Axes>"
            ]
          },
          "metadata": {
            "needs_background": "light"
          },
          "output_type": "display_data"
        }
      ],
      "source": [
        "# Test your function and save all \"global\" variables within the G class (G stands for global)\n",
        "@dataclass\n",
        "class G:\n",
        "    TEMPERATURES_CSV = './data/daily-min-temperatures.csv'\n",
        "    times, temperatures = parse_data_from_file(TEMPERATURES_CSV)\n",
        "    TIME = np.array(times)\n",
        "    SERIES = np.array(temperatures)\n",
        "    SPLIT_TIME = 2500\n",
        "    WINDOW_SIZE = 64\n",
        "    BATCH_SIZE = 32\n",
        "    SHUFFLE_BUFFER_SIZE = 1000\n",
        "\n",
        "\n",
        "plt.figure(figsize=(10, 6))\n",
        "plot_series(G.TIME, G.SERIES)\n",
        "plt.show()"
      ]
    },
    {
      "cell_type": "markdown",
      "metadata": {
        "id": "FrTIBtN3u_xR"
      },
      "source": [
        "**Expected Output:**\n",
        "<div>\n",
        "<img src=\"images/temp-series.png\" width=\"500\"/>\n",
        "</div>"
      ]
    },
    {
      "cell_type": "markdown",
      "metadata": {
        "id": "jyCn81Tqu_xS"
      },
      "source": [
        "## Processing the data\n",
        "\n",
        "Since you already coded the `train_val_split` and `windowed_dataset` functions during past week's assignments, this time they are provided for you:"
      ]
    },
    {
      "cell_type": "code",
      "execution_count": null,
      "metadata": {
        "deletable": false,
        "editable": false,
        "id": "FltxMZxGu_xS"
      },
      "outputs": [],
      "source": [
        "def train_val_split(time, series, time_step=G.SPLIT_TIME):\n",
        "\n",
        "    time_train = time[:time_step]\n",
        "    series_train = series[:time_step]\n",
        "    time_valid = time[time_step:]\n",
        "    series_valid = series[time_step:]\n",
        "\n",
        "    return time_train, series_train, time_valid, series_valid\n",
        "\n",
        "\n",
        "# Split the dataset\n",
        "time_train, series_train, time_valid, series_valid = train_val_split(G.TIME, G.SERIES)"
      ]
    },
    {
      "cell_type": "code",
      "execution_count": null,
      "metadata": {
        "deletable": false,
        "editable": false,
        "id": "lJwUUZscnG38"
      },
      "outputs": [],
      "source": [
        "def windowed_dataset(series, window_size=G.WINDOW_SIZE, batch_size=G.BATCH_SIZE, shuffle_buffer=G.SHUFFLE_BUFFER_SIZE):\n",
        "    ds = tf.data.Dataset.from_tensor_slices(series)\n",
        "    ds = ds.window(window_size + 1, shift=1, drop_remainder=True)\n",
        "    ds = ds.flat_map(lambda w: w.batch(window_size + 1))\n",
        "    ds = ds.shuffle(shuffle_buffer)\n",
        "    ds = ds.map(lambda w: (w[:-1], w[-1]))\n",
        "    ds = ds.batch(batch_size).prefetch(1)\n",
        "    return ds\n",
        "\n",
        "\n",
        "# Apply the transformation to the training set\n",
        "train_set = windowed_dataset(series_train, window_size=G.WINDOW_SIZE, batch_size=G.BATCH_SIZE, shuffle_buffer=G.SHUFFLE_BUFFER_SIZE)"
      ]
    },
    {
      "cell_type": "markdown",
      "metadata": {
        "id": "Mnx9yZkPu_xS"
      },
      "source": [
        "## Defining the model architecture\n",
        "\n",
        "Now that you have a function that will process the data before it is fed into your neural network for training, it is time to define your layer architecture. Just as in last week's assignment you will do the layer definition and compilation in two separate steps. Begin by completing the `create_uncompiled_model` function below.\n",
        "\n",
        "This is done so you can reuse your model's layers for the learning rate adjusting and the actual training.\n",
        "\n",
        "Hint:\n",
        "\n",
        "- `Lambda` layers are not required.\n",
        "- Use a combination of `Conv1D` and `LSTM` layers followed by `Dense` layers"
      ]
    },
    {
      "cell_type": "code",
      "execution_count": null,
      "metadata": {
        "deletable": false,
        "id": "W0NUQGApu_xS"
      },
      "outputs": [],
      "source": [
        "def create_uncompiled_model():\n",
        "\n",
        "    ### START CODE HERE\n",
        "\n",
        "    model = tf.keras.models.Sequential([\n",
        "        tf.keras.layers.Conv1D(filters=32, kernel_size=5, strides=1,\n",
        "                              activation='relu', padding='causal',input_shape=[None,1]),\n",
        "        tf.keras.layers.LSTM(64, return_sequences=True),\n",
        "        tf.keras.layers.LSTM(64),\n",
        "        tf.keras.layers.Dense(30, activation='relu'),\n",
        "        tf.keras.layers.Dense(10, activation='relu'),\n",
        "        tf.keras.layers.Dense(1)\n",
        "\n",
        "    ])\n",
        "\n",
        "    ### END CODE HERE\n",
        "\n",
        "    return model"
      ]
    },
    {
      "cell_type": "markdown",
      "metadata": {
        "id": "4aHslFTfu_xS"
      },
      "source": [
        "You can test your model with the code below. If you get an error, it's likely that your model is returning a sequence. You can indeed use an LSTM with `return_sequences=True` but you have to feed it into another layer that generates a single prediction. You can review the lectures or the previous ungraded labs to see how that is done."
      ]
    },
    {
      "cell_type": "code",
      "execution_count": null,
      "metadata": {
        "deletable": false,
        "editable": false,
        "id": "M98Jy8Otu_xS",
        "outputId": "846b6a5f-8385-4e2e-9da7-95e6b5a6257e"
      },
      "outputs": [
        {
          "name": "stdout",
          "output_type": "stream",
          "text": [
            "Testing model prediction with input of shape (32, 64)...\n",
            "Your current architecture is compatible with the windowed dataset! :)\n"
          ]
        }
      ],
      "source": [
        "# Test your uncompiled model\n",
        "\n",
        "# Create an instance of the model\n",
        "uncompiled_model = create_uncompiled_model()\n",
        "\n",
        "# Get one batch of the training set(X = input, y = label)\n",
        "for X, y in train_set.take(1):\n",
        "\n",
        "    # Generate a prediction\n",
        "    print(f'Testing model prediction with input of shape {X.shape}...')\n",
        "    y_pred = uncompiled_model.predict(X)\n",
        "\n",
        "# Compare the shape of the prediction and the label y (remove dimensions of size 1)\n",
        "y_pred_shape = y_pred.squeeze().shape\n",
        "\n",
        "assert y_pred_shape == y.shape, (f'Squeezed predicted y shape = {y_pred_shape} '\n",
        "                                           f'whereas actual y shape = {y.shape}.')\n",
        "\n",
        "print(\"Your current architecture is compatible with the windowed dataset! :)\")"
      ]
    },
    {
      "cell_type": "markdown",
      "metadata": {
        "id": "IbZ6oxxRu_xS"
      },
      "source": [
        "## Adjusting the learning rate - (Optional Exercise)\n",
        "\n",
        "As you saw in the lectures, you can leverage Tensorflow's callbacks to dynamically vary the learning rate before doing the actual training. This can be helpful in finding what value works best with your model. Note that this is only one way of finding the best learning rate. There are other techniques for hyperparameter optimization but it is outside the scope of this course.\n",
        "\n",
        "For the optimizers you can try out:\n",
        "\n",
        "- tf.keras.optimizers.Adam\n",
        "- tf.keras.optimizers.SGD with a momentum of 0.9"
      ]
    },
    {
      "cell_type": "code",
      "execution_count": null,
      "metadata": {
        "deletable": false,
        "id": "ABBN2Do9u_xS"
      },
      "outputs": [],
      "source": [
        "def adjust_learning_rate(dataset):\n",
        "\n",
        "    model = create_uncompiled_model()\n",
        "\n",
        "    lr_schedule = tf.keras.callbacks.LearningRateScheduler(lambda epoch: 1e-4 * 10**(epoch / 20))\n",
        "\n",
        "    ### START CODE HERE\n",
        "\n",
        "    # Select your optimizer\n",
        "    optimizer = tf.keras.optimizers.SGD(momentum=0.9)\n",
        "\n",
        "    # Compile the model passing in the appropriate loss\n",
        "    model.compile(loss=tf.keras.losses.Huber(),\n",
        "                  optimizer=optimizer,\n",
        "                  metrics=[\"mae\"])\n",
        "\n",
        "    ### END CODE HERE\n",
        "\n",
        "    history = model.fit(dataset, epochs=100, callbacks=[lr_schedule])\n",
        "\n",
        "    return history"
      ]
    },
    {
      "cell_type": "code",
      "execution_count": null,
      "metadata": {
        "deletable": false,
        "editable": false,
        "id": "kgowXdaLu_xS",
        "outputId": "c799e782-9b55-45fe-e756-876b8a217d8b"
      },
      "outputs": [
        {
          "name": "stdout",
          "output_type": "stream",
          "text": [
            "Epoch 1/100\n",
            "77/77 [==============================] - 9s 84ms/step - loss: 9.9500 - mae: 10.4485 - lr: 1.0000e-04\n",
            "Epoch 2/100\n",
            "77/77 [==============================] - 5s 68ms/step - loss: 9.2034 - mae: 9.7020 - lr: 1.1220e-04\n",
            "Epoch 3/100\n",
            "77/77 [==============================] - 5s 67ms/step - loss: 7.2958 - mae: 7.7908 - lr: 1.2589e-04\n",
            "Epoch 4/100\n",
            "77/77 [==============================] - 5s 68ms/step - loss: 3.2174 - mae: 3.6897 - lr: 1.4125e-04\n",
            "Epoch 5/100\n",
            "77/77 [==============================] - 5s 65ms/step - loss: 2.2966 - mae: 2.7548 - lr: 1.5849e-04\n",
            "Epoch 6/100\n",
            "77/77 [==============================] - 5s 63ms/step - loss: 1.9197 - mae: 2.3741 - lr: 1.7783e-04\n",
            "Epoch 7/100\n",
            "77/77 [==============================] - 5s 64ms/step - loss: 1.8109 - mae: 2.2611 - lr: 1.9953e-04\n",
            "Epoch 8/100\n",
            "77/77 [==============================] - 5s 61ms/step - loss: 1.8036 - mae: 2.2534 - lr: 2.2387e-04\n",
            "Epoch 9/100\n",
            "77/77 [==============================] - 5s 61ms/step - loss: 1.8105 - mae: 2.2596 - lr: 2.5119e-04\n",
            "Epoch 10/100\n",
            "77/77 [==============================] - 5s 65ms/step - loss: 1.7925 - mae: 2.2459 - lr: 2.8184e-04\n",
            "Epoch 11/100\n",
            "77/77 [==============================] - 5s 59ms/step - loss: 1.8335 - mae: 2.2878 - lr: 3.1623e-04\n",
            "Epoch 12/100\n",
            "77/77 [==============================] - 5s 59ms/step - loss: 1.7996 - mae: 2.2514 - lr: 3.5481e-04\n",
            "Epoch 13/100\n",
            "77/77 [==============================] - 5s 61ms/step - loss: 1.8218 - mae: 2.2759 - lr: 3.9811e-04\n",
            "Epoch 14/100\n",
            "77/77 [==============================] - 5s 59ms/step - loss: 1.8061 - mae: 2.2553 - lr: 4.4668e-04\n",
            "Epoch 15/100\n",
            "77/77 [==============================] - 5s 61ms/step - loss: 1.7342 - mae: 2.1838 - lr: 5.0119e-04\n",
            "Epoch 16/100\n",
            "77/77 [==============================] - 5s 60ms/step - loss: 1.7055 - mae: 2.1547 - lr: 5.6234e-04\n",
            "Epoch 17/100\n",
            "77/77 [==============================] - 5s 60ms/step - loss: 1.7131 - mae: 2.1625 - lr: 6.3096e-04\n",
            "Epoch 18/100\n",
            "77/77 [==============================] - 5s 63ms/step - loss: 1.7549 - mae: 2.2069 - lr: 7.0795e-04\n",
            "Epoch 19/100\n",
            "77/77 [==============================] - 5s 64ms/step - loss: 1.6709 - mae: 2.1205 - lr: 7.9433e-04\n",
            "Epoch 20/100\n",
            "77/77 [==============================] - 5s 60ms/step - loss: 1.6892 - mae: 2.1348 - lr: 8.9125e-04\n",
            "Epoch 21/100\n",
            "77/77 [==============================] - 5s 59ms/step - loss: 1.6417 - mae: 2.0866 - lr: 0.0010\n",
            "Epoch 22/100\n",
            "77/77 [==============================] - 5s 60ms/step - loss: 1.6105 - mae: 2.0588 - lr: 0.0011\n",
            "Epoch 23/100\n",
            "77/77 [==============================] - 5s 60ms/step - loss: 1.5702 - mae: 2.0156 - lr: 0.0013\n",
            "Epoch 24/100\n",
            "77/77 [==============================] - 5s 59ms/step - loss: 1.6186 - mae: 2.0665 - lr: 0.0014\n",
            "Epoch 25/100\n",
            "77/77 [==============================] - 5s 60ms/step - loss: 1.5578 - mae: 1.9984 - lr: 0.0016\n",
            "Epoch 26/100\n",
            "77/77 [==============================] - 5s 60ms/step - loss: 1.6936 - mae: 2.1418 - lr: 0.0018\n",
            "Epoch 27/100\n",
            "77/77 [==============================] - 5s 59ms/step - loss: 1.5443 - mae: 1.9888 - lr: 0.0020\n",
            "Epoch 28/100\n",
            "77/77 [==============================] - 5s 61ms/step - loss: 1.6483 - mae: 2.0928 - lr: 0.0022\n",
            "Epoch 29/100\n",
            "77/77 [==============================] - 5s 60ms/step - loss: 1.7181 - mae: 2.1705 - lr: 0.0025\n",
            "Epoch 30/100\n",
            "77/77 [==============================] - 5s 59ms/step - loss: 1.5485 - mae: 1.9916 - lr: 0.0028\n",
            "Epoch 31/100\n",
            "77/77 [==============================] - 5s 58ms/step - loss: 1.5670 - mae: 2.0114 - lr: 0.0032\n",
            "Epoch 32/100\n",
            "77/77 [==============================] - 5s 60ms/step - loss: 1.6426 - mae: 2.0893 - lr: 0.0035\n",
            "Epoch 33/100\n",
            "77/77 [==============================] - 5s 59ms/step - loss: 1.6415 - mae: 2.0882 - lr: 0.0040\n",
            "Epoch 34/100\n",
            "77/77 [==============================] - 5s 59ms/step - loss: 1.6644 - mae: 2.1114 - lr: 0.0045\n",
            "Epoch 35/100\n",
            "77/77 [==============================] - 5s 61ms/step - loss: 1.6281 - mae: 2.0738 - lr: 0.0050\n",
            "Epoch 36/100\n",
            "77/77 [==============================] - 5s 59ms/step - loss: 1.6625 - mae: 2.1094 - lr: 0.0056\n",
            "Epoch 37/100\n",
            "77/77 [==============================] - 5s 59ms/step - loss: 1.6809 - mae: 2.1289 - lr: 0.0063\n",
            "Epoch 38/100\n",
            "77/77 [==============================] - 5s 59ms/step - loss: 1.6551 - mae: 2.0968 - lr: 0.0071\n",
            "Epoch 39/100\n",
            "77/77 [==============================] - 5s 60ms/step - loss: 1.6616 - mae: 2.1059 - lr: 0.0079\n",
            "Epoch 40/100\n",
            "77/77 [==============================] - 5s 61ms/step - loss: 1.8632 - mae: 2.3147 - lr: 0.0089\n",
            "Epoch 41/100\n",
            "77/77 [==============================] - 5s 59ms/step - loss: 1.7851 - mae: 2.2368 - lr: 0.0100\n",
            "Epoch 42/100\n",
            "77/77 [==============================] - 5s 60ms/step - loss: 1.8626 - mae: 2.3143 - lr: 0.0112\n",
            "Epoch 43/100\n",
            "77/77 [==============================] - 5s 59ms/step - loss: 1.7092 - mae: 2.1531 - lr: 0.0126\n",
            "Epoch 44/100\n",
            "77/77 [==============================] - 5s 63ms/step - loss: 1.7490 - mae: 2.1992 - lr: 0.0141\n",
            "Epoch 45/100\n",
            "77/77 [==============================] - 5s 61ms/step - loss: 1.9543 - mae: 2.4093 - lr: 0.0158\n",
            "Epoch 46/100\n",
            "77/77 [==============================] - 5s 58ms/step - loss: 1.8050 - mae: 2.2582 - lr: 0.0178\n",
            "Epoch 47/100\n",
            "77/77 [==============================] - 5s 59ms/step - loss: 1.7970 - mae: 2.2501 - lr: 0.0200\n",
            "Epoch 48/100\n",
            "77/77 [==============================] - 5s 61ms/step - loss: 1.7277 - mae: 2.1776 - lr: 0.0224\n",
            "Epoch 49/100\n",
            "77/77 [==============================] - 5s 59ms/step - loss: 2.0778 - mae: 2.5385 - lr: 0.0251\n",
            "Epoch 50/100\n",
            "77/77 [==============================] - 5s 59ms/step - loss: 2.0828 - mae: 2.5397 - lr: 0.0282\n",
            "Epoch 51/100\n",
            "77/77 [==============================] - 5s 59ms/step - loss: 1.8266 - mae: 2.2792 - lr: 0.0316\n",
            "Epoch 52/100\n",
            "77/77 [==============================] - 5s 60ms/step - loss: 1.9204 - mae: 2.3752 - lr: 0.0355\n",
            "Epoch 53/100\n",
            "77/77 [==============================] - 5s 59ms/step - loss: 2.1110 - mae: 2.5683 - lr: 0.0398\n",
            "Epoch 54/100\n",
            "77/77 [==============================] - 5s 60ms/step - loss: 2.0453 - mae: 2.5022 - lr: 0.0447\n",
            "Epoch 55/100\n",
            "77/77 [==============================] - 5s 63ms/step - loss: 2.6509 - mae: 3.1160 - lr: 0.0501\n",
            "Epoch 56/100\n",
            "77/77 [==============================] - 5s 58ms/step - loss: 2.7819 - mae: 3.2492 - lr: 0.0562\n",
            "Epoch 57/100\n",
            "77/77 [==============================] - 5s 58ms/step - loss: 2.7482 - mae: 3.2172 - lr: 0.0631\n",
            "Epoch 58/100\n",
            "77/77 [==============================] - 5s 60ms/step - loss: 2.7608 - mae: 3.2264 - lr: 0.0708\n",
            "Epoch 59/100\n",
            "77/77 [==============================] - 5s 59ms/step - loss: 2.7809 - mae: 3.2487 - lr: 0.0794\n",
            "Epoch 60/100\n",
            "77/77 [==============================] - 5s 60ms/step - loss: 2.7810 - mae: 3.2471 - lr: 0.0891\n",
            "Epoch 61/100\n",
            "77/77 [==============================] - 5s 60ms/step - loss: 2.7398 - mae: 3.2056 - lr: 0.1000\n",
            "Epoch 62/100\n",
            "77/77 [==============================] - 5s 58ms/step - loss: 2.7407 - mae: 3.2093 - lr: 0.1122\n",
            "Epoch 63/100\n",
            "77/77 [==============================] - 5s 60ms/step - loss: 2.7514 - mae: 3.2144 - lr: 0.1259\n",
            "Epoch 64/100\n",
            "77/77 [==============================] - 5s 63ms/step - loss: 2.7168 - mae: 3.1816 - lr: 0.1413\n",
            "Epoch 65/100\n",
            "77/77 [==============================] - 5s 62ms/step - loss: 2.7282 - mae: 3.1940 - lr: 0.1585\n",
            "Epoch 66/100\n",
            "77/77 [==============================] - 5s 59ms/step - loss: 2.7132 - mae: 3.1783 - lr: 0.1778\n",
            "Epoch 67/100\n",
            "77/77 [==============================] - 5s 60ms/step - loss: 2.7199 - mae: 3.1879 - lr: 0.1995\n",
            "Epoch 68/100\n",
            "77/77 [==============================] - 5s 60ms/step - loss: 2.7415 - mae: 3.2068 - lr: 0.2239\n",
            "Epoch 69/100\n",
            "77/77 [==============================] - 5s 59ms/step - loss: 2.7206 - mae: 3.1877 - lr: 0.2512\n",
            "Epoch 70/100\n",
            "77/77 [==============================] - 5s 59ms/step - loss: 2.7361 - mae: 3.2018 - lr: 0.2818\n",
            "Epoch 71/100\n",
            "77/77 [==============================] - 5s 67ms/step - loss: 2.7186 - mae: 3.1841 - lr: 0.3162\n",
            "Epoch 72/100\n",
            "77/77 [==============================] - 5s 62ms/step - loss: 2.7622 - mae: 3.2299 - lr: 0.3548\n",
            "Epoch 73/100\n",
            "77/77 [==============================] - 5s 60ms/step - loss: 2.7259 - mae: 3.1927 - lr: 0.3981\n",
            "Epoch 74/100\n",
            "77/77 [==============================] - 5s 60ms/step - loss: 2.7364 - mae: 3.2041 - lr: 0.4467\n",
            "Epoch 75/100\n"
          ]
        },
        {
          "name": "stdout",
          "output_type": "stream",
          "text": [
            "77/77 [==============================] - 5s 60ms/step - loss: 2.7496 - mae: 3.2149 - lr: 0.5012\n",
            "Epoch 76/100\n",
            "77/77 [==============================] - 5s 59ms/step - loss: 2.7601 - mae: 3.2277 - lr: 0.5623\n",
            "Epoch 77/100\n",
            "77/77 [==============================] - 5s 61ms/step - loss: 2.8362 - mae: 3.3036 - lr: 0.6310\n",
            "Epoch 78/100\n",
            "77/77 [==============================] - 5s 59ms/step - loss: 2.7531 - mae: 3.2195 - lr: 0.7079\n",
            "Epoch 79/100\n",
            "77/77 [==============================] - 5s 60ms/step - loss: 2.7710 - mae: 3.2409 - lr: 0.7943\n",
            "Epoch 80/100\n",
            "77/77 [==============================] - 5s 61ms/step - loss: 2.7610 - mae: 3.2293 - lr: 0.8913\n",
            "Epoch 81/100\n",
            "77/77 [==============================] - 5s 60ms/step - loss: 2.8464 - mae: 3.3160 - lr: 1.0000\n",
            "Epoch 82/100\n",
            "77/77 [==============================] - 5s 59ms/step - loss: 2.8744 - mae: 3.3440 - lr: 1.1220\n",
            "Epoch 83/100\n",
            "77/77 [==============================] - 5s 61ms/step - loss: 2.8266 - mae: 3.2928 - lr: 1.2589\n",
            "Epoch 84/100\n",
            "77/77 [==============================] - 5s 60ms/step - loss: 2.9995 - mae: 3.4708 - lr: 1.4125\n",
            "Epoch 85/100\n",
            "77/77 [==============================] - 5s 59ms/step - loss: 2.8239 - mae: 3.2890 - lr: 1.5849\n",
            "Epoch 86/100\n",
            "77/77 [==============================] - 5s 60ms/step - loss: 2.8276 - mae: 3.2949 - lr: 1.7783\n",
            "Epoch 87/100\n",
            "77/77 [==============================] - 5s 61ms/step - loss: 2.8286 - mae: 3.2970 - lr: 1.9953\n",
            "Epoch 88/100\n",
            "77/77 [==============================] - 5s 63ms/step - loss: 2.7835 - mae: 3.2486 - lr: 2.2387\n",
            "Epoch 89/100\n",
            "77/77 [==============================] - 5s 64ms/step - loss: 2.8746 - mae: 3.3409 - lr: 2.5119\n",
            "Epoch 90/100\n",
            "77/77 [==============================] - 5s 64ms/step - loss: 2.8249 - mae: 3.2941 - lr: 2.8184\n",
            "Epoch 91/100\n",
            "77/77 [==============================] - 5s 65ms/step - loss: 2.8045 - mae: 3.2709 - lr: 3.1623\n",
            "Epoch 92/100\n",
            "77/77 [==============================] - 5s 64ms/step - loss: 2.9192 - mae: 3.3878 - lr: 3.5481\n",
            "Epoch 93/100\n",
            "77/77 [==============================] - 5s 63ms/step - loss: 3.1684 - mae: 3.6393 - lr: 3.9811\n",
            "Epoch 94/100\n",
            "77/77 [==============================] - 5s 61ms/step - loss: 3.2372 - mae: 3.7118 - lr: 4.4668\n",
            "Epoch 95/100\n",
            "77/77 [==============================] - 5s 63ms/step - loss: 3.3000 - mae: 3.7716 - lr: 5.0119\n",
            "Epoch 96/100\n",
            "77/77 [==============================] - 5s 61ms/step - loss: 3.1887 - mae: 3.6608 - lr: 5.6234\n",
            "Epoch 97/100\n",
            "77/77 [==============================] - 5s 62ms/step - loss: 3.1251 - mae: 3.5972 - lr: 6.3096\n",
            "Epoch 98/100\n",
            "77/77 [==============================] - 5s 63ms/step - loss: 3.2638 - mae: 3.7363 - lr: 7.0795\n",
            "Epoch 99/100\n",
            "77/77 [==============================] - 5s 62ms/step - loss: 3.1484 - mae: 3.6220 - lr: 7.9433\n",
            "Epoch 100/100\n",
            "77/77 [==============================] - 5s 61ms/step - loss: 3.7252 - mae: 4.1994 - lr: 8.9125\n"
          ]
        }
      ],
      "source": [
        "# Run the training with dynamic LR\n",
        "lr_history = adjust_learning_rate(train_set)"
      ]
    },
    {
      "cell_type": "code",
      "execution_count": null,
      "metadata": {
        "colab": {
          "base_uri": "https://localhost:8080/",
          "height": 290
        },
        "deletable": false,
        "editable": false,
        "id": "vVcKmg7Q_7rD",
        "outputId": "27cf16ae-eb85-47c3-fc86-18e72e528619"
      },
      "outputs": [
        {
          "data": {
            "text/plain": [
              "(0.0001, 10.0, 0.0, 10.0)"
            ]
          },
          "execution_count": 47,
          "metadata": {},
          "output_type": "execute_result"
        },
        {
          "data": {
            "image/png": "[encoded data removed]",
            "text/plain": [
              "<Figure size 432x288 with 1 Axes>"
            ]
          },
          "metadata": {
            "needs_background": "light"
          },
          "output_type": "display_data"
        }
      ],
      "source": [
        "plt.semilogx(lr_history.history[\"lr\"], lr_history.history[\"loss\"])\n",
        "plt.axis([1e-4, 10, 0, 10])"
      ]
    },
    {
      "cell_type": "markdown",
      "metadata": {
        "id": "gXR4x-FZu_xT"
      },
      "source": [
        "## Compiling the model\n",
        "Now that you have trained the model while varying the learning rate, it is time to do the actual training that will be used to forecast the time series. For this complete the `create_model` function below.\n",
        "\n",
        "Notice that you are reusing the architecture you defined in the `create_uncompiled_model` earlier. Now you only need to compile this model using the appropriate loss, optimizer (and learning rate).\n",
        "\n",
        "Hints:\n",
        "\n",
        "- The training should be really quick so if you notice that each epoch is taking more than a few seconds, consider trying a different architecture.\n",
        "\n",
        "\n",
        "- If after the first epoch you get an output like this: loss: nan - mae: nan it is very likely that your network is suffering from exploding gradients. This is a common problem if you used SGD as optimizer and set a learning rate that is too high. If you encounter this problem consider lowering the learning rate or using Adam with the default learning rate."
      ]
    },
    {
      "cell_type": "code",
      "execution_count": null,
      "metadata": {
        "deletable": false,
        "id": "JdZDXVqzu_xT"
      },
      "outputs": [],
      "source": [
        "def create_model():\n",
        "\n",
        "\n",
        "    model = create_uncompiled_model()\n",
        "\n",
        "    ### START CODE HERE\n",
        "\n",
        "    model.compile(loss=tf.keras.losses.Huber(),\n",
        "                  optimizer=tf.keras.optimizers.SGD(learning_rate=2e-4, momentum=0.9),\n",
        "                  metrics=[\"mae\"])\n",
        "\n",
        "\n",
        "    ### END CODE HERE\n",
        "\n",
        "    return model"
      ]
    },
    {
      "cell_type": "code",
      "execution_count": null,
      "metadata": {
        "deletable": false,
        "id": "P9MF153Au_xT",
        "outputId": "de9633cb-1767-45f7-d1e4-2a75ebea7699"
      },
      "outputs": [
        {
          "name": "stdout",
          "output_type": "stream",
          "text": [
            "Epoch 1/50\n",
            "77/77 [==============================] - 9s 84ms/step - loss: 10.1594 - mae: 10.6582\n",
            "Epoch 2/50\n",
            "77/77 [==============================] - 5s 67ms/step - loss: 9.8429 - mae: 10.3413\n",
            "Epoch 3/50\n",
            "77/77 [==============================] - 5s 69ms/step - loss: 9.2145 - mae: 9.7130\n",
            "Epoch 4/50\n",
            "77/77 [==============================] - 5s 65ms/step - loss: 7.0193 - mae: 7.5135\n",
            "Epoch 5/50\n",
            "77/77 [==============================] - 5s 64ms/step - loss: 2.7987 - mae: 3.2638\n",
            "Epoch 6/50\n",
            "77/77 [==============================] - 5s 63ms/step - loss: 2.3476 - mae: 2.8072\n",
            "Epoch 7/50\n",
            "77/77 [==============================] - 5s 64ms/step - loss: 1.9632 - mae: 2.4156\n",
            "Epoch 8/50\n",
            "77/77 [==============================] - 5s 64ms/step - loss: 1.9152 - mae: 2.3685\n",
            "Epoch 9/50\n",
            "77/77 [==============================] - 5s 64ms/step - loss: 1.8626 - mae: 2.3161\n",
            "Epoch 10/50\n",
            "77/77 [==============================] - 5s 68ms/step - loss: 1.8046 - mae: 2.2572\n",
            "Epoch 11/50\n",
            "77/77 [==============================] - 5s 69ms/step - loss: 1.7855 - mae: 2.2348\n",
            "Epoch 12/50\n",
            "77/77 [==============================] - 6s 72ms/step - loss: 1.7759 - mae: 2.2266\n",
            "Epoch 13/50\n",
            "77/77 [==============================] - 5s 70ms/step - loss: 1.8599 - mae: 2.3123\n",
            "Epoch 14/50\n",
            "77/77 [==============================] - 5s 69ms/step - loss: 1.7810 - mae: 2.2312\n",
            "Epoch 15/50\n",
            "77/77 [==============================] - 5s 70ms/step - loss: 1.7269 - mae: 2.1773\n",
            "Epoch 16/50\n",
            "77/77 [==============================] - 5s 64ms/step - loss: 1.7569 - mae: 2.2057\n",
            "Epoch 17/50\n",
            "77/77 [==============================] - 5s 63ms/step - loss: 1.7240 - mae: 2.1752\n",
            "Epoch 18/50\n",
            "77/77 [==============================] - 5s 62ms/step - loss: 1.7164 - mae: 2.1653\n",
            "Epoch 19/50\n",
            "77/77 [==============================] - 5s 62ms/step - loss: 1.7135 - mae: 2.1595\n",
            "Epoch 20/50\n",
            "77/77 [==============================] - 5s 61ms/step - loss: 1.7271 - mae: 2.1763\n",
            "Epoch 21/50\n",
            "77/77 [==============================] - 5s 62ms/step - loss: 1.6828 - mae: 2.1303\n",
            "Epoch 22/50\n",
            "77/77 [==============================] - 5s 62ms/step - loss: 1.6876 - mae: 2.1360\n",
            "Epoch 23/50\n",
            "77/77 [==============================] - 5s 61ms/step - loss: 1.6669 - mae: 2.1152\n",
            "Epoch 24/50\n",
            "77/77 [==============================] - 5s 64ms/step - loss: 1.6636 - mae: 2.1087\n",
            "Epoch 25/50\n",
            "77/77 [==============================] - 5s 63ms/step - loss: 1.6515 - mae: 2.0995\n",
            "Epoch 26/50\n",
            "77/77 [==============================] - 5s 60ms/step - loss: 1.6655 - mae: 2.1111\n",
            "Epoch 27/50\n",
            "77/77 [==============================] - 5s 63ms/step - loss: 1.6478 - mae: 2.0931\n",
            "Epoch 28/50\n",
            "77/77 [==============================] - 5s 61ms/step - loss: 1.6581 - mae: 2.1045\n",
            "Epoch 29/50\n",
            "77/77 [==============================] - 5s 61ms/step - loss: 1.6102 - mae: 2.0596\n",
            "Epoch 30/50\n",
            "77/77 [==============================] - 5s 62ms/step - loss: 1.6080 - mae: 2.0550\n",
            "Epoch 31/50\n",
            "77/77 [==============================] - 5s 61ms/step - loss: 1.6039 - mae: 2.0490\n",
            "Epoch 32/50\n",
            "77/77 [==============================] - 5s 63ms/step - loss: 1.5965 - mae: 2.0431\n",
            "Epoch 33/50\n",
            "77/77 [==============================] - 5s 64ms/step - loss: 1.6018 - mae: 2.0471\n",
            "Epoch 34/50\n",
            "77/77 [==============================] - 5s 62ms/step - loss: 1.5927 - mae: 2.0383\n",
            "Epoch 35/50\n",
            "77/77 [==============================] - 5s 62ms/step - loss: 1.6108 - mae: 2.0566\n",
            "Epoch 36/50\n",
            "77/77 [==============================] - 5s 62ms/step - loss: 1.5894 - mae: 2.0348\n",
            "Epoch 37/50\n",
            "77/77 [==============================] - 5s 62ms/step - loss: 1.5810 - mae: 2.0254\n",
            "Epoch 38/50\n",
            "77/77 [==============================] - 5s 60ms/step - loss: 1.5747 - mae: 2.0208\n",
            "Epoch 39/50\n",
            "77/77 [==============================] - 5s 62ms/step - loss: 1.5755 - mae: 2.0196\n",
            "Epoch 40/50\n",
            "77/77 [==============================] - 5s 62ms/step - loss: 1.5617 - mae: 2.0062\n",
            "Epoch 41/50\n",
            "77/77 [==============================] - 5s 63ms/step - loss: 1.6114 - mae: 2.0589\n",
            "Epoch 42/50\n",
            "77/77 [==============================] - 5s 63ms/step - loss: 1.5557 - mae: 1.9983\n",
            "Epoch 43/50\n",
            "77/77 [==============================] - 5s 61ms/step - loss: 1.5632 - mae: 2.0078\n",
            "Epoch 44/50\n",
            "77/77 [==============================] - 5s 61ms/step - loss: 1.5394 - mae: 1.9805\n",
            "Epoch 45/50\n",
            "77/77 [==============================] - 5s 61ms/step - loss: 1.5428 - mae: 1.9873\n",
            "Epoch 46/50\n",
            "77/77 [==============================] - 5s 63ms/step - loss: 1.5315 - mae: 1.9726\n",
            "Epoch 47/50\n",
            "77/77 [==============================] - 5s 63ms/step - loss: 1.5303 - mae: 1.9718\n",
            "Epoch 48/50\n",
            "77/77 [==============================] - 5s 62ms/step - loss: 1.5335 - mae: 1.9758\n",
            "Epoch 49/50\n",
            "77/77 [==============================] - 5s 63ms/step - loss: 1.5222 - mae: 1.9633\n",
            "Epoch 50/50\n",
            "77/77 [==============================] - 5s 61ms/step - loss: 1.5221 - mae: 1.9601\n"
          ]
        }
      ],
      "source": [
        "# Save an instance of the model\n",
        "model = create_model()\n",
        "\n",
        "# Train it\n",
        "history = model.fit(train_set, epochs=50)"
      ]
    },
    {
      "cell_type": "markdown",
      "metadata": {
        "id": "rocPjyhUu_xT"
      },
      "source": [
        "## Evaluating the forecast\n",
        "\n",
        "Now it is time to evaluate the performance of the forecast. For this you can use the `compute_metrics` function that you coded in a previous assignment:"
      ]
    },
    {
      "cell_type": "code",
      "execution_count": null,
      "metadata": {
        "deletable": false,
        "editable": false,
        "id": "yHddJF6su_xT"
      },
      "outputs": [],
      "source": [
        "def compute_metrics(true_series, forecast):\n",
        "\n",
        "    mse = tf.keras.metrics.mean_squared_error(true_series, forecast).numpy()\n",
        "    mae = tf.keras.metrics.mean_absolute_error(true_series, forecast).numpy()\n",
        "\n",
        "    return mse, mae"
      ]
    },
    {
      "cell_type": "markdown",
      "metadata": {
        "id": "iT79Gmi3u_xT"
      },
      "source": [
        "At this point only the model that will perform the forecast is ready but you still need to compute the actual forecast.\n",
        "\n"
      ]
    },
    {
      "cell_type": "markdown",
      "metadata": {
        "id": "i9eOS91Nu_xT"
      },
      "source": [
        "## Faster model forecasts\n",
        "\n",
        "In the previous week you saw a faster approach compared to using a for loop to compute the forecasts for every point in the sequence. Remember that this faster approach uses batches of data.\n",
        "\n",
        "The code to implement this is provided in the `model_forecast` below. Notice that the code is very similar to the one in the `windowed_dataset` function with the differences that:\n",
        "- The dataset is windowed using `window_size` rather than `window_size + 1`\n",
        "- No shuffle should be used\n",
        "- No need to split the data into features and labels\n",
        "- A model is used to predict batches of the dataset"
      ]
    },
    {
      "cell_type": "code",
      "execution_count": null,
      "metadata": {
        "deletable": false,
        "editable": false,
        "id": "4XwGrf-A_wF0"
      },
      "outputs": [],
      "source": [
        "def model_forecast(model, series, window_size):\n",
        "    ds = tf.data.Dataset.from_tensor_slices(series)\n",
        "    ds = ds.window(window_size, shift=1, drop_remainder=True)\n",
        "    ds = ds.flat_map(lambda w: w.batch(window_size))\n",
        "    ds = ds.batch(32).prefetch(1)\n",
        "    forecast = model.predict(ds)\n",
        "    return forecast"
      ]
    },
    {
      "cell_type": "markdown",
      "metadata": {
        "id": "hl5482zVu_xT"
      },
      "source": [
        "Now compute the actual forecast:\n",
        "\n",
        "**Note:** Don't modify the cell below.\n",
        "\n",
        "The grader uses the same slicing to get the forecast so if you change the cell below you risk having issues when submitting your model for grading."
      ]
    },
    {
      "cell_type": "code",
      "execution_count": null,
      "metadata": {
        "colab": {
          "base_uri": "https://localhost:8080/",
          "height": 389
        },
        "deletable": false,
        "editable": false,
        "id": "PrktQX3hKYex",
        "outputId": "1914662d-6bdd-4e17-8697-8f5a29e89b87"
      },
      "outputs": [
        {
          "data": {
            "image/png": "[encoded data removed]",
            "text/plain": [
              "<Figure size 720x432 with 1 Axes>"
            ]
          },
          "metadata": {
            "needs_background": "light"
          },
          "output_type": "display_data"
        }
      ],
      "source": [
        "# Compute the forecast for all the series\n",
        "rnn_forecast = model_forecast(model, G.SERIES, G.WINDOW_SIZE).squeeze()\n",
        "\n",
        "# Slice the forecast to get only the predictions for the validation set\n",
        "rnn_forecast = rnn_forecast[G.SPLIT_TIME - G.WINDOW_SIZE:-1]\n",
        "\n",
        "# Plot the forecast\n",
        "plt.figure(figsize=(10, 6))\n",
        "plot_series(time_valid, series_valid)\n",
        "plot_series(time_valid, rnn_forecast)"
      ]
    },
    {
      "cell_type": "code",
      "execution_count": null,
      "metadata": {
        "deletable": false,
        "editable": false,
        "id": "w3R9bfscu_xT",
        "outputId": "93e157ed-7a70-405d-c3b1-1e1542650af8"
      },
      "outputs": [
        {
          "name": "stdout",
          "output_type": "stream",
          "text": [
            "mse: 5.41, mae: 1.81 for forecast\n"
          ]
        }
      ],
      "source": [
        "mse, mae = compute_metrics(series_valid, rnn_forecast)\n",
        "\n",
        "print(f\"mse: {mse:.2f}, mae: {mae:.2f} for forecast\")"
      ]
    },
    {
      "cell_type": "markdown",
      "metadata": {
        "id": "5Kky61FWu_xU"
      },
      "source": [
        "**To pass this assignment your forecast should achieve a MSE of 6 or less and a MAE of 2 or less.**\n",
        "\n",
        "- If your forecast didn't achieve this threshold try re-training your model with a different architecture (you will need to re-run both `create_uncompiled_model` and `create_model` functions) or tweaking the optimizer's parameters.\n",
        "\n",
        "\n",
        "- If your forecast did achieve this threshold run the following cell to save the model in the SavedModel format which will be used for grading and after doing so, submit your assigment for grading.\n",
        "\n",
        "\n",
        "- This environment includes a dummy SavedModel directory which contains a dummy model trained for one epoch. **To replace this file with your actual model you need to run the next cell before submitting for grading.**"
      ]
    },
    {
      "cell_type": "code",
      "execution_count": null,
      "metadata": {
        "deletable": false,
        "editable": false,
        "id": "bqBEDdUiu_xU",
        "outputId": "87d98762-29c5-45bd-b64a-a8fc2338ebf1"
      },
      "outputs": [
        {
          "name": "stdout",
          "output_type": "stream",
          "text": [
            "INFO:tensorflow:Assets written to: saved_model/my_model/assets\n"
          ]
        },
        {
          "name": "stderr",
          "output_type": "stream",
          "text": [
            "INFO:tensorflow:Assets written to: saved_model/my_model/assets\n"
          ]
        },
        {
          "name": "stdout",
          "output_type": "stream",
          "text": [
            "saved_model/\n",
            "saved_model/my_model/\n",
            "saved_model/my_model/keras_metadata.pb\n",
            "saved_model/my_model/variables/\n",
            "saved_model/my_model/variables/variables.data-00000-of-00001\n",
            "saved_model/my_model/variables/variables.index\n",
            "saved_model/my_model/saved_model.pb\n",
            "saved_model/my_model/assets/\n"
          ]
        }
      ],
      "source": [
        "# Save your model in the SavedModel format\n",
        "model.save('saved_model/my_model')\n",
        "\n",
        "# Compress the directory using tar\n",
        "! tar -czvf saved_model.tar.gz saved_model/"
      ]
    },
    {
      "cell_type": "markdown",
      "metadata": {
        "id": "bUY5-Nhbu_xU"
      },
      "source": [
        "**Congratulations on finishing this week's assignment!**\n",
        "\n",
        "You have successfully implemented a neural network capable of forecasting time series leveraging a combination of Tensorflow's layers such as Convolutional and LSTMs! This resulted in a forecast that surpasses all the ones you did previously.\n",
        "\n",
        "**By finishing this assignment you have finished the specialization! Give yourself a pat on the back!!!**"
      ]
    },
    {
      "cell_type": "markdown",
      "metadata": {
        "id": "QWtA8CMJu_xU"
      },
      "source": [
        "<details>\n",
        "  <summary><font size=\"2\" color=\"darkgreen\"><b>Please click here if you want to experiment with any of the non-graded code.</b></font></summary>\n",
        "    <p><i><b>Important Note: Please only do this when you've already passed the assignment to avoid problems with the autograder.</b></i>\n",
        "    <ol>\n",
        "        <li> On the notebook’s menu, click “View” > “Cell Toolbar” > “Edit Metadata”</li>\n",
        "        <li> Hit the “Edit Metadata” button next to the code cell which you want to lock/unlock</li>\n",
        "        <li> Set the attribute value for “editable” to:\n",
        "            <ul>\n",
        "                <li> “true” if you want to unlock it </li>\n",
        "                <li> “false” if you want to lock it </li>\n",
        "            </ul>\n",
        "        </li>\n",
        "        <li> On the notebook’s menu, click “View” > “Cell Toolbar” > “None” </li>\n",
        "    </ol>\n",
        "    <p> Here's a short demo of how to do the steps above:\n",
        "        <br>\n",
        "        <img src=\"https://drive.google.com/uc?export=view&id=14Xy_Mb17CZVgzVAgq7NCjMVBvSae3xO1\" align=\"center\">\n",
        "</details>"
      ]
    }
  ],
  "metadata": {
    "kernelspec": {
      "display_name": "Python 3",
      "language": "python",
      "name": "python3"
    },
    "language_info": {
      "codemirror_mode": {
        "name": "ipython",
        "version": 3
      },
      "file_extension": ".py",
      "mimetype": "text/x-python",
      "name": "python",
      "nbconvert_exporter": "python",
      "pygments_lexer": "ipython3",
      "version": "3.8.8"
    },
    "colab": {
      "provenance": [],
      "include_colab_link": true
    }
  },
  "nbformat": 4,
  "nbformat_minor": 0
}